{
  "nbformat": 4,
  "nbformat_minor": 0,
  "metadata": {
    "colab": {
      "name": "vectors.ipynb",
      "provenance": [],
      "authorship_tag": "ABX9TyOdL/sjnauNRMJUVxjSiVDt",
      "include_colab_link": true
    },
    "kernelspec": {
      "name": "python3",
      "display_name": "Python 3"
    }
  },
  "cells": [
    {
      "cell_type": "markdown",
      "metadata": {
        "id": "view-in-github",
        "colab_type": "text"
      },
      "source": [
        "<a href=\"https://colab.research.google.com/github/TyroneGithub/vectors-R2/blob/master/vectors.ipynb\" target=\"_parent\"><img src=\"https://colab.research.google.com/assets/colab-badge.svg\" alt=\"Open In Colab\"/></a>"
      ]
    },
    {
      "cell_type": "markdown",
      "metadata": {
        "id": "7zHjDV1bg5sr",
        "colab_type": "text"
      },
      "source": [
        "Library imports (Don't forget to run this first) "
      ]
    },
    {
      "cell_type": "code",
      "metadata": {
        "id": "HJeFd_Xke0Ch",
        "colab_type": "code",
        "colab": {}
      },
      "source": [
        "import numpy as np\n",
        "import matplotlib.pyplot as plt\n",
        "import math\n",
        "from fractions import Fraction "
      ],
      "execution_count": 121,
      "outputs": []
    },
    {
      "cell_type": "markdown",
      "metadata": {
        "id": "1CI4Nxneg159",
        "colab_type": "text"
      },
      "source": [
        "Vector declaration"
      ]
    },
    {
      "cell_type": "code",
      "metadata": {
        "id": "daSkkJxefBdB",
        "colab_type": "code",
        "colab": {}
      },
      "source": [
        "A = np.array([1,5])\n",
        "B = np.array([4,5])"
      ],
      "execution_count": 122,
      "outputs": []
    },
    {
      "cell_type": "markdown",
      "metadata": {
        "id": "mDI5Ce6wgxby",
        "colab_type": "text"
      },
      "source": [
        "Get the magnitude \n"
      ]
    },
    {
      "cell_type": "code",
      "metadata": {
        "id": "AgA8hy_YhaKb",
        "colab_type": "code",
        "colab": {
          "base_uri": "https://localhost:8080/",
          "height": 51
        },
        "outputId": "8fef4c92-ddff-4e39-b213-9dae62dd7c67"
      },
      "source": [
        "#get the magnitude\n",
        "\n",
        "x = A  # do any vector operation here\n",
        "\n",
        "magnitude = math.sqrt(x[0]**2 + x[1]**2)\n",
        "magnitudeNoSqrt = x[0]**2 + x[1]**2  # calculator reference para hindi double value ipakita \n",
        "\n",
        "print (magnitude)\n",
        "print (magnitudeNoSqrt)\n",
        "# print (round(magnitude**2))\n"
      ],
      "execution_count": 123,
      "outputs": [
        {
          "output_type": "stream",
          "text": [
            "5.0990195135927845\n",
            "26\n"
          ],
          "name": "stdout"
        }
      ]
    },
    {
      "cell_type": "markdown",
      "metadata": {
        "id": "q4j2epyphFWB",
        "colab_type": "text"
      },
      "source": [
        "Get the dot product"
      ]
    },
    {
      "cell_type": "code",
      "metadata": {
        "id": "ecwoPR4xNZ5n",
        "colab_type": "code",
        "colab": {
          "base_uri": "https://localhost:8080/",
          "height": 34
        },
        "outputId": "66f3871a-d172-4f0b-ff1b-9f2fc098a3a8"
      },
      "source": [
        "# dot product\n",
        "\n",
        "product = A * B\n",
        "dotProduct = 0;\n",
        "for i in product:\n",
        "  dotProduct += i\n",
        "\n",
        "print(dotProduct)"
      ],
      "execution_count": 124,
      "outputs": [
        {
          "output_type": "stream",
          "text": [
            "29\n"
          ],
          "name": "stdout"
        }
      ]
    },
    {
      "cell_type": "markdown",
      "metadata": {
        "id": "OOe4gqX-hJ4e",
        "colab_type": "text"
      },
      "source": [
        "Vector projection"
      ]
    },
    {
      "cell_type": "code",
      "metadata": {
        "id": "lSKQs53lfMHS",
        "colab_type": "code",
        "colab": {
          "base_uri": "https://localhost:8080/",
          "height": 34
        },
        "outputId": "e3d873be-d0ed-43e6-feeb-3d6b905349d3"
      },
      "source": [
        "#vector projection \n",
        "\n",
        "vp = (dotProduct/magnitude**2) * x #refer to cell 3 for x value \n",
        "\n",
        "print(vp)\n"
      ],
      "execution_count": 125,
      "outputs": [
        {
          "output_type": "stream",
          "text": [
            "[1.11538462 5.57692308]\n"
          ],
          "name": "stdout"
        }
      ]
    },
    {
      "cell_type": "code",
      "metadata": {
        "id": "Vdxp6EH2hzUg",
        "colab_type": "code",
        "colab": {
          "base_uri": "https://localhost:8080/",
          "height": 34
        },
        "outputId": "3e611f06-04ef-4a53-bf0a-1da06ab729e0"
      },
      "source": [
        "vpFraction = Fraction(dotProduct,  magnitudeNoSqrt) \n",
        "print (vpFraction * x) # Fraction(numerator, denominator) "
      ],
      "execution_count": 126,
      "outputs": [
        {
          "output_type": "stream",
          "text": [
            "[Fraction(29, 26) Fraction(145, 26)]\n"
          ],
          "name": "stdout"
        }
      ]
    },
    {
      "cell_type": "markdown",
      "metadata": {
        "id": "vQW5et3ghOyc",
        "colab_type": "text"
      },
      "source": [
        "Scalar projection"
      ]
    },
    {
      "cell_type": "code",
      "metadata": {
        "id": "tSB1PSFbgK7H",
        "colab_type": "code",
        "colab": {
          "base_uri": "https://localhost:8080/",
          "height": 34
        },
        "outputId": "ca0d45b8-1110-4d2a-84a5-e097386ec8cf"
      },
      "source": [
        "# scalar projection \n",
        "\n",
        "sp = dotProduct / magnitude \n",
        "\n",
        "print (sp)"
      ],
      "execution_count": 127,
      "outputs": [
        {
          "output_type": "stream",
          "text": [
            "5.687367919007337\n"
          ],
          "name": "stdout"
        }
      ]
    },
    {
      "cell_type": "markdown",
      "metadata": {
        "id": "gmrWFCqFhQZ2",
        "colab_type": "text"
      },
      "source": [
        "get the unit vector"
      ]
    },
    {
      "cell_type": "code",
      "metadata": {
        "id": "7KeDhkJwl-dE",
        "colab_type": "code",
        "colab": {
          "base_uri": "https://localhost:8080/",
          "height": 34
        },
        "outputId": "63c5ff78-bc7e-4e7f-be4e-c605e6960ab4"
      },
      "source": [
        "#unit vectors\n",
        "\n",
        "y = A # do any vector operation here\n",
        "unitVector = (1/magnitude) * y\n",
        "\n",
        "print(unitVector)"
      ],
      "execution_count": 128,
      "outputs": [
        {
          "output_type": "stream",
          "text": [
            "[0.19611614 0.98058068]\n"
          ],
          "name": "stdout"
        }
      ]
    },
    {
      "cell_type": "markdown",
      "metadata": {
        "id": "QVah9ozshSe8",
        "colab_type": "text"
      },
      "source": [
        "Visualization"
      ]
    },
    {
      "cell_type": "code",
      "metadata": {
        "id": "LPzEHx0snBVV",
        "colab_type": "code",
        "colab": {
          "base_uri": "https://localhost:8080/",
          "height": 265
        },
        "outputId": "85ec5253-364c-4fd3-c721-3266f0da0d9c"
      },
      "source": [
        "X = np.array((0))\n",
        "Y= np.array((0))\n",
        "\n",
        "fig, ax = plt.subplots()\n",
        "plt.xticks(np.arange(-5, 10, step=1))\n",
        "plt.yticks(np.arange(-5, 10, step=1))\n",
        "\n",
        "\n",
        "q = ax.quiver(X, Y, A[0], A[1], units='xy', scale = 1, color = 'green')\n",
        "q = ax.quiver(X, Y, B[0], B[1],units='xy' ,scale=1, color = 'blue')\n",
        "q = ax.quiver(X, Y, A[0] + B[0], A[1] + B[1],units='xy' ,scale=1, color='red')\n",
        "\n",
        "q = ax.quiver(A[0], A[1], B[0], B[1],units='xy' ,scale=1)\n",
        "q = ax.quiver(B[0], B[1], A[0], A[1],units='xy' ,scale=1)\n",
        "\n",
        "\n",
        "\n",
        "plt.grid()\n",
        "\n",
        "ax.set_aspect('equal')\n",
        "\n",
        "plt.xlim(-5,10)\n",
        "plt.ylim(-5,10)\n",
        "\n",
        "plt.show()"
      ],
      "execution_count": 129,
      "outputs": [
        {
          "output_type": "display_data",
          "data": {
            "image/png": "[encoded data removed]",
            "text/plain": [
              "<Figure size 432x288 with 1 Axes>"
            ]
          },
          "metadata": {
            "tags": [],
            "needs_background": "light"
          }
        }
      ]
    }
  ]
}